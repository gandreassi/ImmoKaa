{
 "cells": [
  {
   "cell_type": "code",
   "execution_count": 1,
   "metadata": {},
   "outputs": [],
   "source": [
    "from ImmoKaa.ImmoKaa import ImmoKaa"
   ]
  },
  {
   "cell_type": "code",
   "execution_count": 2,
   "metadata": {},
   "outputs": [],
   "source": [
    "#initialize ImmoKaa. It takes a name and the criteria yaml file.\n",
    "ik = ImmoKaa(\"my_search\", \"./criteria.yaml\")"
   ]
  },
  {
   "cell_type": "code",
   "execution_count": 4,
   "metadata": {},
   "outputs": [],
   "source": [
    "ik.set_verbose(False)"
   ]
  },
  {
   "cell_type": "code",
   "execution_count": 5,
   "metadata": {},
   "outputs": [
    {
     "name": "stdout",
     "output_type": "stream",
     "text": [
      "city: Aarau\n",
      "\tpage: 1/2 (24 results)\n",
      "\tpage: 2/2 (6 results)\n"
     ]
    }
   ],
   "source": [
    "ik.scrape()"
   ]
  },
  {
   "cell_type": "code",
   "execution_count": 6,
   "metadata": {},
   "outputs": [
    {
     "data": {
      "text/html": [
       "<div>\n",
       "<style scoped>\n",
       "    .dataframe tbody tr th:only-of-type {\n",
       "        vertical-align: middle;\n",
       "    }\n",
       "\n",
       "    .dataframe tbody tr th {\n",
       "        vertical-align: top;\n",
       "    }\n",
       "\n",
       "    .dataframe thead th {\n",
       "        text-align: right;\n",
       "    }\n",
       "</style>\n",
       "<table border=\"1\" class=\"dataframe\">\n",
       "  <thead>\n",
       "    <tr style=\"text-align: right;\">\n",
       "      <th></th>\n",
       "      <th>id</th>\n",
       "      <th>accountId</th>\n",
       "      <th>agency</th>\n",
       "      <th>availableFrom</th>\n",
       "      <th>availableFromFormatted</th>\n",
       "      <th>cityId</th>\n",
       "      <th>cityName</th>\n",
       "      <th>commuteTimes</th>\n",
       "      <th>countryId</th>\n",
       "      <th>geoAccuracy</th>\n",
       "      <th>...</th>\n",
       "      <th>sortalgoScore</th>\n",
       "      <th>sortalgoScore2</th>\n",
       "      <th>listingCompletenessScore</th>\n",
       "      <th>sortingPosition</th>\n",
       "      <th>companyId</th>\n",
       "      <th>memberPackageId</th>\n",
       "      <th>surfaceProperty</th>\n",
       "      <th>surfacePropertyFormatted</th>\n",
       "      <th>searched-city</th>\n",
       "      <th>fetch-date</th>\n",
       "    </tr>\n",
       "  </thead>\n",
       "  <tbody>\n",
       "    <tr>\n",
       "      <th>0</th>\n",
       "      <td>6514232</td>\n",
       "      <td>1005028</td>\n",
       "      <td>{'companyCity': 'Schönenwerd', 'companyName1':...</td>\n",
       "      <td>2021-05-18T00:00:00+02:00</td>\n",
       "      <td>Immediately</td>\n",
       "      <td>3437</td>\n",
       "      <td>Suhr</td>\n",
       "      <td>{'defaultPois': [{'defaultPoiId': 13, 'label':...</td>\n",
       "      <td>1</td>\n",
       "      <td>8</td>\n",
       "      <td>...</td>\n",
       "      <td>4.8285</td>\n",
       "      <td>4.8285</td>\n",
       "      <td>8.5</td>\n",
       "      <td>1</td>\n",
       "      <td>NaN</td>\n",
       "      <td>NaN</td>\n",
       "      <td>NaN</td>\n",
       "      <td>NaN</td>\n",
       "      <td>Aarau</td>\n",
       "      <td>2021-06-07</td>\n",
       "    </tr>\n",
       "    <tr>\n",
       "      <th>1</th>\n",
       "      <td>6507508</td>\n",
       "      <td>51062</td>\n",
       "      <td>{'companyCity': 'Suhr', 'companyName1': 'Kelle...</td>\n",
       "      <td>NaN</td>\n",
       "      <td>Auf Anfrage</td>\n",
       "      <td>1056</td>\n",
       "      <td>Erlinsbach</td>\n",
       "      <td>{'defaultPois': [{'defaultPoiId': 13, 'label':...</td>\n",
       "      <td>1</td>\n",
       "      <td>8</td>\n",
       "      <td>...</td>\n",
       "      <td>7.3260</td>\n",
       "      <td>7.3260</td>\n",
       "      <td>7.5</td>\n",
       "      <td>2</td>\n",
       "      <td>23766.0</td>\n",
       "      <td>3.0</td>\n",
       "      <td>NaN</td>\n",
       "      <td>NaN</td>\n",
       "      <td>Aarau</td>\n",
       "      <td>2021-06-07</td>\n",
       "    </tr>\n",
       "    <tr>\n",
       "      <th>2</th>\n",
       "      <td>6536501</td>\n",
       "      <td>778914</td>\n",
       "      <td>{'companyCity': 'Aarau', 'companyName1': 'BCG ...</td>\n",
       "      <td>NaN</td>\n",
       "      <td>Auf Anfrage</td>\n",
       "      <td>1057</td>\n",
       "      <td>Erlinsbach SO</td>\n",
       "      <td>{'defaultPois': [{'defaultPoiId': 13, 'label':...</td>\n",
       "      <td>1</td>\n",
       "      <td>8</td>\n",
       "      <td>...</td>\n",
       "      <td>7.1595</td>\n",
       "      <td>7.1595</td>\n",
       "      <td>7.5</td>\n",
       "      <td>3</td>\n",
       "      <td>8397.0</td>\n",
       "      <td>2.0</td>\n",
       "      <td>939.0</td>\n",
       "      <td>939 m²</td>\n",
       "      <td>Aarau</td>\n",
       "      <td>2021-06-07</td>\n",
       "    </tr>\n",
       "    <tr>\n",
       "      <th>3</th>\n",
       "      <td>6512453</td>\n",
       "      <td>285354</td>\n",
       "      <td>{'companyCity': 'Aarau', 'companyName1': 'Prim...</td>\n",
       "      <td>2020-09-04T00:00:00+02:00</td>\n",
       "      <td>Sofort</td>\n",
       "      <td>2944</td>\n",
       "      <td>Rombach</td>\n",
       "      <td>{'defaultPois': [{'defaultPoiId': 13, 'label':...</td>\n",
       "      <td>1</td>\n",
       "      <td>8</td>\n",
       "      <td>...</td>\n",
       "      <td>7.1595</td>\n",
       "      <td>7.1595</td>\n",
       "      <td>7.0</td>\n",
       "      <td>4</td>\n",
       "      <td>11943.0</td>\n",
       "      <td>3.0</td>\n",
       "      <td>NaN</td>\n",
       "      <td>NaN</td>\n",
       "      <td>Aarau</td>\n",
       "      <td>2021-06-07</td>\n",
       "    </tr>\n",
       "    <tr>\n",
       "      <th>4</th>\n",
       "      <td>6527150</td>\n",
       "      <td>14525</td>\n",
       "      <td>{'companyCity': 'Frick', 'companyName1': 'RE/M...</td>\n",
       "      <td>NaN</td>\n",
       "      <td>Auf Anfrage</td>\n",
       "      <td>1781</td>\n",
       "      <td>Küttigen</td>\n",
       "      <td>{'defaultPois': [{'defaultPoiId': 13, 'label':...</td>\n",
       "      <td>1</td>\n",
       "      <td>2</td>\n",
       "      <td>...</td>\n",
       "      <td>6.9930</td>\n",
       "      <td>6.9930</td>\n",
       "      <td>5.5</td>\n",
       "      <td>5</td>\n",
       "      <td>24799.0</td>\n",
       "      <td>3.0</td>\n",
       "      <td>NaN</td>\n",
       "      <td>NaN</td>\n",
       "      <td>Aarau</td>\n",
       "      <td>2021-06-07</td>\n",
       "    </tr>\n",
       "  </tbody>\n",
       "</table>\n",
       "<p>5 rows × 65 columns</p>\n",
       "</div>"
      ],
      "text/plain": [
       "        id  accountId                                             agency  \\\n",
       "0  6514232    1005028  {'companyCity': 'Schönenwerd', 'companyName1':...   \n",
       "1  6507508      51062  {'companyCity': 'Suhr', 'companyName1': 'Kelle...   \n",
       "2  6536501     778914  {'companyCity': 'Aarau', 'companyName1': 'BCG ...   \n",
       "3  6512453     285354  {'companyCity': 'Aarau', 'companyName1': 'Prim...   \n",
       "4  6527150      14525  {'companyCity': 'Frick', 'companyName1': 'RE/M...   \n",
       "\n",
       "               availableFrom availableFromFormatted  cityId       cityName  \\\n",
       "0  2021-05-18T00:00:00+02:00            Immediately    3437           Suhr   \n",
       "1                        NaN            Auf Anfrage    1056     Erlinsbach   \n",
       "2                        NaN            Auf Anfrage    1057  Erlinsbach SO   \n",
       "3  2020-09-04T00:00:00+02:00                 Sofort    2944        Rombach   \n",
       "4                        NaN            Auf Anfrage    1781       Küttigen   \n",
       "\n",
       "                                        commuteTimes  countryId  geoAccuracy  \\\n",
       "0  {'defaultPois': [{'defaultPoiId': 13, 'label':...          1            8   \n",
       "1  {'defaultPois': [{'defaultPoiId': 13, 'label':...          1            8   \n",
       "2  {'defaultPois': [{'defaultPoiId': 13, 'label':...          1            8   \n",
       "3  {'defaultPois': [{'defaultPoiId': 13, 'label':...          1            8   \n",
       "4  {'defaultPois': [{'defaultPoiId': 13, 'label':...          1            2   \n",
       "\n",
       "   ...  sortalgoScore  sortalgoScore2  listingCompletenessScore  \\\n",
       "0  ...         4.8285          4.8285                       8.5   \n",
       "1  ...         7.3260          7.3260                       7.5   \n",
       "2  ...         7.1595          7.1595                       7.5   \n",
       "3  ...         7.1595          7.1595                       7.0   \n",
       "4  ...         6.9930          6.9930                       5.5   \n",
       "\n",
       "   sortingPosition companyId  memberPackageId  surfaceProperty  \\\n",
       "0                1       NaN              NaN              NaN   \n",
       "1                2   23766.0              3.0              NaN   \n",
       "2                3    8397.0              2.0            939.0   \n",
       "3                4   11943.0              3.0              NaN   \n",
       "4                5   24799.0              3.0              NaN   \n",
       "\n",
       "   surfacePropertyFormatted searched-city  fetch-date  \n",
       "0                       NaN         Aarau  2021-06-07  \n",
       "1                       NaN         Aarau  2021-06-07  \n",
       "2                    939 m²         Aarau  2021-06-07  \n",
       "3                       NaN         Aarau  2021-06-07  \n",
       "4                       NaN         Aarau  2021-06-07  \n",
       "\n",
       "[5 rows x 65 columns]"
      ]
     },
     "execution_count": 6,
     "metadata": {},
     "output_type": "execute_result"
    }
   ],
   "source": [
    "ik.get_full_dataset().head()"
   ]
  },
  {
   "cell_type": "code",
   "execution_count": 7,
   "metadata": {},
   "outputs": [
    {
     "name": "stdout",
     "output_type": "stream",
     "text": [
      "History file created/overwritten.\n"
     ]
    }
   ],
   "source": [
    "ik.save_scraped_dataframe()"
   ]
  },
  {
   "cell_type": "code",
   "execution_count": 140,
   "metadata": {},
   "outputs": [
    {
     "data": {
      "text/plain": [
       "<AxesSubplot:>"
      ]
     },
     "execution_count": 140,
     "metadata": {},
     "output_type": "execute_result"
    },
    {
     "data": {
      "image/png": "[encoded data removed]",
      "text/plain": [
       "<Figure size 432x288 with 1 Axes>"
      ]
     },
     "metadata": {
      "needs_background": "light"
     },
     "output_type": "display_data"
    }
   ],
   "source": [
    "df[\"sellingPrice\"].hist()"
   ]
  },
  {
   "cell_type": "code",
   "execution_count": 141,
   "metadata": {},
   "outputs": [],
   "source": [
    "#data_all_cities.surfaceLiving[data_all_cities.surfaceLiving==0] = None\n",
    "df['CHF/m2'] = df.price / df.surfaceLiving"
   ]
  },
  {
   "cell_type": "code",
   "execution_count": 142,
   "metadata": {},
   "outputs": [
    {
     "data": {
      "text/plain": [
       "<AxesSubplot:>"
      ]
     },
     "execution_count": 142,
     "metadata": {},
     "output_type": "execute_result"
    },
    {
     "data": {
      "image/png": "[encoded data removed]",
      "text/plain": [
       "<Figure size 432x288 with 1 Axes>"
      ]
     },
     "metadata": {
      "needs_background": "light"
     },
     "output_type": "display_data"
    }
   ],
   "source": [
    "df['CHF/m2'].hist()"
   ]
  },
  {
   "cell_type": "code",
   "execution_count": 147,
   "metadata": {},
   "outputs": [],
   "source": [
    "df_evolution = df.groupby(\"fetch-date\").agg(\"mean\")"
   ]
  },
  {
   "cell_type": "code",
   "execution_count": 151,
   "metadata": {},
   "outputs": [
    {
     "data": {
      "text/plain": [
       "<AxesSubplot:xlabel='fetch-date'>"
      ]
     },
     "execution_count": 151,
     "metadata": {},
     "output_type": "execute_result"
    },
    {
     "data": {
      "image/png": "[encoded data removed]",
      "text/plain": [
       "<Figure size 432x288 with 1 Axes>"
      ]
     },
     "metadata": {
      "needs_background": "light"
     },
     "output_type": "display_data"
    }
   ],
   "source": [
    "df_evolution['CHF/m2'].plot()"
   ]
  },
  {
   "cell_type": "code",
   "execution_count": 153,
   "metadata": {},
   "outputs": [
    {
     "data": {
      "text/plain": [
       "<AxesSubplot:xlabel='fetch-date'>"
      ]
     },
     "execution_count": 153,
     "metadata": {},
     "output_type": "execute_result"
    },
    {
     "data": {
      "image/png": "[encoded data removed]",
      "text/plain": [
       "<Figure size 432x288 with 1 Axes>"
      ]
     },
     "metadata": {
      "needs_background": "light"
     },
     "output_type": "display_data"
    }
   ],
   "source": [
    "df_evolution['surfaceLiving'].plot()"
   ]
  },
  {
   "cell_type": "code",
   "execution_count": null,
   "metadata": {},
   "outputs": [],
   "source": []
  }
 ],
 "metadata": {
  "kernelspec": {
   "display_name": "Python 3",
   "language": "python",
   "name": "python3"
  },
  "language_info": {
   "codemirror_mode": {
    "name": "ipython",
    "version": 3
   },
   "file_extension": ".py",
   "mimetype": "text/x-python",
   "name": "python",
   "nbconvert_exporter": "python",
   "pygments_lexer": "ipython3",
   "version": "3.8.8"
  }
 },
 "nbformat": 4,
 "nbformat_minor": 4
}
